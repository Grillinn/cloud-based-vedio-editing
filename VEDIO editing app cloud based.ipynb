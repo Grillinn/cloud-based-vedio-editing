{
  "metadata": {
    "kernelspec": {
      "name": "python",
      "display_name": "Python (Pyodide)",
      "language": "python"
    },
    "language_info": {
      "codemirror_mode": {
        "name": "python",
        "version": 3
      },
      "file_extension": ".py",
      "mimetype": "text/x-python",
      "name": "python",
      "nbconvert_exporter": "python",
      "pygments_lexer": "ipython3",
      "version": "3.8"
    }
  },
  "nbformat_minor": 5,
  "nbformat": 4,
  "cells": [
    {
      "id": "b3d31a6c-921f-4da6-be52-b846775b6f3e",
      "cell_type": "markdown",
      "source": "step for deploying a node.js application on EC2\n1.Launch an EC2 instance (e.g., Amazon Linux 2).\n2.ssh -i \"your-key.pem\" ec2-user@your-ec2-public-ip\n3. Install Node.js and Git:\nsudo yum update -y\nsudo yum install -y git\ncurl -sL https://rpm.nodesource.com/setup_14.x | sudo bash -\nsudo yum install -y nodejs\n4.Clone your repository:\n    git clone https://github.com/your-repo/your-app.git\ncd your-app\n5.Install dependencies:\n    BASH\n  npm install\n6.\n6.Start your application (e.g., with pm2 or forever for production):\nBASH\npm2 start app.js\n7.Configure your security group to allow traffic on port 80 or 443 (HTTP or HTTPS).\n\n                         *THANKS*\n\n\n\n\n",
      "metadata": {}
    },
    {
      "id": "b4817185-8859-4d43-b7ee-1fe2f8f3a2c4",
      "cell_type": "code",
      "source": "*index.html\n<!DOCTYPE html>\n<html lang=\"en\">\n\n<head>\n    <meta charset=\"UTF-8\">\n    <meta name=\"viewport\" content=\"width=device-width, initial-scale=1.0\">\n    <title>Cloud Video Editor</title>\n    <link rel=\"stylesheet\" href=\"style.css\">\n</head>\n\n<body>\n    <div class=\"container\">\n        <h1>Cloud Video Editor</h1>\n\n        <!-- Video Upload Section -->\n        <input type=\"file\" id=\"upload-video\" accept=\"video/*\">\n        <button id=\"upload-btn\">Upload Video</button>\n\n        <!-- Video Player Section -->\n        <video id=\"video-player\" controls width=\"640\">\n            Your browser does not support the video tag.\n        </video>\n\n        <!-- Trimming Section -->\n        <label for=\"start-time\">Start Time: </label>\n        <input type=\"number\" id=\"start-time\" min=\"0\" step=\"1\">\n\n        <label for=\"end-time\">End Time: </label>\n        <input type=\"number\" id=\"end-time\" min=\"0\" step=\"1\">\n\n        <button id=\"trim-btn\">Trim Video</button>\n    </div>\n\n    <script src=\"script.js\"></script>\n</body>\n\n</html>",
      "metadata": {
        "trusted": true
      },
      "outputs": [],
      "execution_count": null
    },
    {
      "id": "7b44cbe3-224e-446e-b801-032a9539993d",
      "cell_type": "code",
      "source": "style.css\nbody {\n    font-family: Arial, sans-serif;\n    display: flex;\n    justify-content: center;\n    align-items: center;\n    height: 100vh;\n    margin: 0;\n    background-color: #f4f4f9;\n}\n\n.container {\n    text-align: center;\n}\n\nvideo {\n    max-width: 100%;\n    margin-top: 20px;\n}\n\ninput[type=\"number\"] {\n    width: 80px;\n    padding: 5px;\n    margin: 5px;\n}\n\nbutton {\n    padding: 10px 20px;\n    background-color: #008CBA;\n    color: white;\n    border: none;\n    cursor: pointer;\n}\n\nbutton:hover {\n    background-color: #005f6b;\n}\n\n",
      "metadata": {
        "trusted": true
      },
      "outputs": [],
      "execution_count": null
    },
    {
      "id": "e565e7e8-e4f1-4bb1-8415-94ae28d8b65f",
      "cell_type": "code",
      "source": "script.js\ndocument.getElementById('upload-btn').addEventListener('click', uploadVideo);\ndocument.getElementById('trim-btn').addEventListener('click', trimVideo);\n\nlet uploadedVideoUrl = '';\nlet videoPlayer = document.getElementById('video-player');\n\nfunction uploadVideo() {\n    const videoFile = document.getElementById('upload-video').files[0];\n    \n    if (!videoFile) {\n        alert('Please upload a video file.');\n        return;\n    }\n\n    // Display uploaded video in the player\n    const videoUrl = URL.createObjectURL(videoFile);\n    videoPlayer.src = videoUrl;\n    uploadedVideoUrl = videoUrl;\n\n    // You can upload the video to cloud storage here\n    // For example, upload the video to AWS S3 or Google Cloud\n    // Send the file to a server to process and store\n}\n\nfunction trimVideo() {\n    const startTime = parseFloat(document.getElementById('start-time').value);\n    const endTime = parseFloat(document.getElementById('end-time').value);\n    \n    if (isNaN(startTime) || isNaN(endTime)) {\n        alert('Please enter valid start and end times.');\n        return;\n    }\n\n    if (startTime >= endTime) {\n        alert('Start time must be less than end time.');\n        return;\n    }\n\n    // Call a server API to trim the video and return a new video URL\n    // For this, you would use an API that handles video processing (like FFmpeg).\n    \n    // Example (Note: You need to set up a server for processing)\n    // fetch('/trim-video', {\n    //     method: 'POST',\n    //     body: JSON.stringify({ videoUrl: uploadedVideoUrl, startTime, endTime }),\n    //     headers: { 'Content-Type': 'application/json' }\n    // })\n    // .then(response => response.json())\n    // .then(data => {\n    //     videoPlayer.src = data.trimmedVideoUrl;\n    // })\n    // .catch(error => console.error('Error trimming video:', error));\n\n    alert('Trimming functionality needs server-side processing.');\n}\n",
      "metadata": {
        "trusted": true
      },
      "outputs": [],
      "execution_count": null
    }
  ]
}